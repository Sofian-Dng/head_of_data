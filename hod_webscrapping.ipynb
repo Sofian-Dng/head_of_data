{
  "cells": [
    {
      "cell_type": "code",
      "execution_count": null,
      "id": "cc7f3fb1-bf87-49c9-bd43-aef57b2e60d0",
      "metadata": {
        "id": "cc7f3fb1-bf87-49c9-bd43-aef57b2e60d0"
      },
      "outputs": [],
      "source": [
        "print('hello')"
      ]
    },
    {
      "cell_type": "code",
      "execution_count": null,
      "id": "e534ec9c-dd89-4af7-8ddc-e03fcb823703",
      "metadata": {
        "id": "e534ec9c-dd89-4af7-8ddc-e03fcb823703"
      },
      "outputs": [],
      "source": [
        "# standard python\n",
        "import os\n",
        "import json\n",
        "import time\n",
        "import random\n",
        "import warnings\n",
        "import csv\n",
        "from datetime import datetime\n",
        "\n",
        "# external libs\n",
        "import pandas as pd\n",
        "import requests\n",
        "from tqdm.notebook import tqdm\n",
        "\n",
        "# beautiful soup\n",
        "from bs4 import BeautifulSoup\n",
        "\n",
        "# selenium\n",
        "from selenium import webdriver\n",
        "from selenium.webdriver.chrome.service import Service\n",
        "from selenium.webdriver.chrome.options import Options\n",
        "from selenium.webdriver.common.by import By\n",
        "from selenium.webdriver.common.keys import Keys\n",
        "from selenium.webdriver.support.ui import WebDriverWait\n",
        "from selenium.webdriver.support import expected_conditions as EC\n",
        "from webdriver_manager.chrome import ChromeDriverManager\n",
        "# selenium with undetected tracking\n",
        "import undetected_chromedriver as uc\n",
        "\n",
        "# better visualization in terminal\n",
        "from IPython.display import display, Image, HTML, clear_output\n",
        "from PIL import Image as PILImage\n",
        "from colorama import Fore, Style, init\n",
        "\n",
        "# no warnings\n",
        "warnings.filterwarnings(\"ignore\", message=\"Pyarrow will become a required dependency\")\n"
      ]
    },
    {
      "cell_type": "markdown",
      "id": "8d338e96-625a-491d-8ca8-de2224b30bca",
      "metadata": {
        "id": "8d338e96-625a-491d-8ca8-de2224b30bca"
      },
      "source": [
        "# 0 - Webscrapping demo"
      ]
    },
    {
      "cell_type": "markdown",
      "id": "fceef5af-ebbb-4c47-bea8-f4919fc0217e",
      "metadata": {
        "id": "fceef5af-ebbb-4c47-bea8-f4919fc0217e"
      },
      "source": [
        "## A - Functions"
      ]
    },
    {
      "cell_type": "code",
      "execution_count": null,
      "id": "a34c7aa8-6cf1-452a-8e27-0be71e4a5f03",
      "metadata": {
        "id": "a34c7aa8-6cf1-452a-8e27-0be71e4a5f03"
      },
      "outputs": [],
      "source": [
        "# typing function with human-like effect\n",
        "def human_typing_effect(target_element, message, min_interval=0.05, max_interval=0.15):\n",
        "    \"\"\"Simulates human typing behavior by sending characters one at a time.\"\"\"\n",
        "    for character in message:\n",
        "        target_element.send_keys(character)\n",
        "        delay = random.uniform(min_interval, max_interval)\n",
        "        time.sleep(delay)\n",
        "\n",
        "# smooth scrolling on the page\n",
        "def perform_smooth_scroll(browser, destination=None, total_time=2, scroll_steps=25):\n",
        "    \"\"\"Smoothly scrolls through the webpage.\"\"\"\n",
        "    # Determine full scroll height if no destination specified\n",
        "    scroll_limit = browser.execute_script(\"return document.body.scrollHeight\") if destination is None else destination\n",
        "\n",
        "    current_scroll = browser.execute_script(\"return window.pageYOffset\")\n",
        "    increment = (scroll_limit - current_scroll) / scroll_steps\n",
        "\n",
        "    for step in range(1, scroll_steps + 1):\n",
        "        position = current_scroll + increment * step\n",
        "        browser.execute_script(f\"window.scrollTo(0, {position})\")\n",
        "        time.sleep(total_time / scroll_steps)\n",
        "\n",
        "# take screenshot and resize for display\n",
        "def capture_and_show_screenshot(browser, save_as=\"capture.png\", target_width=800):\n",
        "    \"\"\"Captures a screenshot and displays it resized.\"\"\"\n",
        "    browser.save_screenshot(save_as)\n",
        "\n",
        "    img = PILImage.open(save_as)\n",
        "    scale_factor = target_width / float(img.size[0])\n",
        "    new_height = int(float(img.size[1]) * scale_factor)\n",
        "    resized_img = img.resize((target_width, new_height), PILImage.LANCZOS)\n",
        "    resized_img.save(save_as)\n",
        "\n",
        "    display(Image(filename=save_as, width=target_width))\n",
        "\n",
        "# element highlighting on the page\n",
        "def emphasize_element(browser, web_element, highlight_duration=2):\n",
        "    \"\"\"Temporarily highlights a webpage element for visibility.\"\"\"\n",
        "    original_styles = web_element.get_attribute(\"style\")\n",
        "    highlight_script = \"\"\"\n",
        "    arguments[0].setAttribute('style', arguments[1] + '; border: 2px solid red; background: yellow; color: black;');\n",
        "    \"\"\"\n",
        "    browser.execute_script(highlight_script, web_element, original_styles)\n",
        "    time.sleep(highlight_duration)\n",
        "    restore_script = \"\"\"\n",
        "    arguments[0].setAttribute('style', arguments[1]);\n",
        "    \"\"\"\n",
        "    browser.execute_script(restore_script, web_element, original_styles)\n",
        "\n"
      ]
    },
    {
      "cell_type": "markdown",
      "id": "c97fb640-a089-4f59-9e30-3a3ec7f23001",
      "metadata": {
        "id": "c97fb640-a089-4f59-9e30-3a3ec7f23001"
      },
      "source": [
        "## B - Example of Browser - Filling out a form"
      ]
    },
    {
      "cell_type": "code",
      "execution_count": null,
      "id": "7a94719e-7db0-461d-b311-fe9ba6633118",
      "metadata": {
        "id": "7a94719e-7db0-461d-b311-fe9ba6633118"
      },
      "outputs": [],
      "source": [
        "# Initialisation de colorama pour un affichage coloré\n",
        "init()\n",
        "\n",
        "# Configuration du navigateur\n",
        "print(f\"{Fore.CYAN}Configuration du navigateur en cours...{Style.RESET_ALL}\")\n",
        "\n",
        "# Options compatibles pour navigateur furtif\n",
        "chrome_options = webdriver.ChromeOptions()\n",
        "chrome_options.add_argument(\"--start-maximized\")\n",
        "chrome_options.add_argument(\"--disable-notifications\")\n",
        "\n",
        "# Simulation du chargement avec barre de progression\n",
        "for _ in tqdm(range(10), desc=\"Initialisation WebDriver\"):\n",
        "    time.sleep(0.2)\n",
        "\n",
        "# Démarrage du navigateur avec les options configurées\n",
        "driver = webdriver.Chrome(options=chrome_options)\n",
        "\n",
        "print(f\"\\n{Fore.CYAN}📝 Remplissage d'un formulaire{Style.RESET_ALL}\")\n",
        "driver.get(\"https://httpbin.org/forms/post\")\n",
        "time.sleep(2)\n",
        "capture_and_show_screenshot(driver, \"form_initial.png\")\n",
        "\n",
        "print(\"Chargement du formulaire terminé...\")\n",
        "\n",
        "# Remplissage progressif du formulaire\n",
        "try:\n",
        "    # Remplir le nom\n",
        "    name_field = driver.find_element(By.NAME, \"custname\")\n",
        "    emphasize_element(driver, name_field)\n",
        "    human_typing_effect(name_field, \"Amaury Gellé\")\n",
        "\n",
        "    # Remplir le téléphone\n",
        "    phone_field = driver.find_element(By.NAME, \"custtel\")\n",
        "    emphasize_element(driver, phone_field)\n",
        "    human_typing_effect(phone_field, \"0123456789\")\n",
        "\n",
        "    # Remplir l'email\n",
        "    email_field = driver.find_element(By.NAME, \"custemail\")\n",
        "    emphasize_element(driver, email_field)\n",
        "    human_typing_effect(email_field, \"amaurygelle@gmail.com\")\n",
        "\n",
        "    # Choix de taille de pizza\n",
        "    pizza_size = driver.find_element(By.CSS_SELECTOR, \"input[value='medium']\")\n",
        "    emphasize_element(driver, pizza_size)\n",
        "    pizza_size.click()\n",
        "\n",
        "    # Choix de la garniture\n",
        "    topping_field = driver.find_element(By.NAME, \"topping\")\n",
        "    emphasize_element(driver, topping_field)\n",
        "    driver.execute_script(\"arguments[0].value = 'mushroom';\", topping_field)\n",
        "\n",
        "    # Heure de livraison\n",
        "    delivery_time = driver.find_element(By.NAME, \"delivery\")\n",
        "    emphasize_element(driver, delivery_time)\n",
        "    human_typing_effect(delivery_time, \"18:30\")\n",
        "\n",
        "    # Commentaires\n",
        "    comments_field = driver.find_element(By.NAME, \"comments\")\n",
        "    emphasize_element(driver, comments_field)\n",
        "    human_typing_effect(comments_field, \"Please leave it in front of the doorway - thanks!\")\n",
        "\n",
        "    capture_and_show_screenshot(driver, \"form_filled.png\")\n",
        "\n",
        "    # Soumettre le formulaire\n",
        "    print(\"Envoi du formulaire en cours...\")\n",
        "    submit_btn = driver.find_element(By.CSS_SELECTOR, \"button[type='submit']\")\n",
        "    emphasize_element(driver, submit_btn)\n",
        "    submit_btn.click()\n",
        "\n",
        "    time.sleep(2)\n",
        "    capture_and_show_screenshot(driver, \"form_submitted.png\")\n",
        "\n",
        "except Exception as error:\n",
        "    print(f\"Une erreur est survenue lors du remplissage du formulaire : {error}\")\n"
      ]
    },
    {
      "cell_type": "markdown",
      "id": "8493efe8-21c6-4bd3-a39a-69ae097183a2",
      "metadata": {
        "id": "8493efe8-21c6-4bd3-a39a-69ae097183a2"
      },
      "source": [
        "## C - Mimicking a Google search"
      ]
    },
    {
      "cell_type": "code",
      "execution_count": null,
      "id": "fc0d217a-e123-4ef7-83de-96d52c51ed81",
      "metadata": {
        "id": "fc0d217a-e123-4ef7-83de-96d52c51ed81"
      },
      "outputs": [],
      "source": [
        "# Redémarrage de colorama pour affichage en couleur\n",
        "init()\n",
        "\n",
        "# Préparation du navigateur\n",
        "print(f\"{Fore.CYAN}Initialisation du navigateur...{Style.RESET_ALL}\")\n",
        "\n",
        "# Paramètres pour navigateur furtif\n",
        "browser_options = webdriver.ChromeOptions()\n",
        "browser_options.add_argument(\"--start-maximized\")\n",
        "browser_options.add_argument(\"--disable-notifications\")\n",
        "\n",
        "# Progression d'initialisation\n",
        "for _ in tqdm(range(10), desc=\"Démarrage WebDriver\"):\n",
        "    time.sleep(0.2)\n",
        "\n",
        "# Lancement du navigateur\n",
        "driver = webdriver.Chrome(options=browser_options)\n",
        "\n",
        "print(f\"{Fore.GREEN}Recherche interactive sur Google{Style.RESET_ALL}\")\n",
        "print(\"Accès à Google et gestion des cookies...\")\n",
        "\n",
        "# Navigation vers Google\n",
        "driver.get(\"https://www.google.com\")\n",
        "time.sleep(2)\n",
        "\n",
        "# Gestion des cookies\n",
        "try:\n",
        "    accept_cookies_btn = WebDriverWait(driver, 5).until(\n",
        "        EC.element_to_be_clickable((By.XPATH, \"//button[contains(., 'Accept all')]\"))\n",
        "    )\n",
        "    accept_cookies_btn.click()\n",
        "    print(\"Cookies acceptés ✓\")\n",
        "    time.sleep(1)\n",
        "except:\n",
        "    print(\"Aucun cookie à accepter ou déjà accepté.\")\n",
        "\n",
        "# Simulation de saisie de recherche\n",
        "search_input = driver.find_element(By.NAME, \"q\")\n",
        "emphasize_element(driver, search_input)\n",
        "query = \"Albert School data courses\"\n",
        "print(f\"Recherche de : '{query}'\")\n",
        "\n",
        "human_typing_effect(search_input, query)\n",
        "capture_and_show_screenshot(driver, \"google_search_typing.png\")\n",
        "\n",
        "# Validation de la recherche\n",
        "search_input.send_keys(Keys.RETURN)\n",
        "time.sleep(3)\n",
        "capture_and_show_screenshot(driver, \"google_results.png\")\n",
        "\n",
        "# Scroll de la page et capture\n",
        "print(\"Défilement de la page...\")\n",
        "perform_smooth_scroll(driver, total_time=4)\n",
        "capture_and_show_screenshot(driver, \"google_results_scrolled.png\")\n",
        "\n",
        "# Extraction des résultats\n",
        "print(f\"{Fore.BLUE}Extraction des liens et descriptions...{Style.RESET_ALL}\")\n",
        "\n",
        "# Attente de chargement des liens\n",
        "try:\n",
        "    WebDriverWait(driver, 10).until(\n",
        "        EC.presence_of_element_located((By.CSS_SELECTOR, \"a[href^='https://']\"))\n",
        "    )\n",
        "    print(\"Liens détectés ✓\")\n",
        "except:\n",
        "    print(\"Timeout pour les résultats.\")\n",
        "\n",
        "# Collecte des résultats\n",
        "gathered_results = []\n",
        "time.sleep(1)\n",
        "\n",
        "# Sélection des liens\n",
        "found_links = driver.find_elements(By.CSS_SELECTOR, \"a[href^='https://']:not([href*='google'])\")\n",
        "\n",
        "print(f\"Nombre de liens détectés : {len(found_links)}\")\n",
        "\n",
        "for item in found_links:\n",
        "    try:\n",
        "        link_url = item.get_attribute(\"href\")\n",
        "        link_title = item.text\n",
        "\n",
        "        if not link_title.strip():\n",
        "            try:\n",
        "                h3_element = item.find_element(By.XPATH, \"./ancestor::*//h3 | .//*//h3 | ./following::h3[1] | ./preceding::h3[1]\")\n",
        "                link_title = h3_element.text\n",
        "            except:\n",
        "                link_title = \"Titre non trouvé\"\n",
        "\n",
        "        link_description = \"Description indisponible\"\n",
        "        try:\n",
        "            possible_desc = [\n",
        "                item.find_element(By.XPATH, \"./ancestor::*[3]//div[string-length(text()) > 50]\"),\n",
        "                item.find_element(By.XPATH, \"./following::div[string-length(text()) > 50][1]\"),\n",
        "                item.find_element(By.XPATH, \"./ancestor::*//div[contains(@class, 'desc') or contains(@class, 'snippet') or contains(@class, 'description')]\")\n",
        "            ]\n",
        "\n",
        "            for desc in possible_desc:\n",
        "                if desc and desc.text.strip():\n",
        "                    link_description = desc.text.strip()\n",
        "                    break\n",
        "        except:\n",
        "            pass\n",
        "\n",
        "        if link_title.strip() and link_url and \"google\" not in link_url.lower():\n",
        "            gathered_results.append({\n",
        "                \"Title\": link_title,\n",
        "                \"URL\": link_url,\n",
        "                \"Description\": link_description\n",
        "            })\n",
        "\n",
        "    except Exception as error:\n",
        "        print(f\"Erreur d'extraction : {str(error)[:100]}...\")\n",
        "        continue\n",
        "\n",
        "# Suppression des doublons\n",
        "final_results = []\n",
        "urls_seen = set()\n",
        "for entry in gathered_results:\n",
        "    if entry[\"URL\"] not in urls_seen:\n",
        "        urls_seen.add(entry[\"URL\"])\n",
        "        final_results.append(entry)\n",
        "\n",
        "# Affichage des premiers résultats\n",
        "print(f\"\\n{Fore.YELLOW}Aperçu des premiers résultats ({len(final_results)} totalisés) :{Style.RESET_ALL}\")\n",
        "for idx, entry in enumerate(final_results[:3], 1):\n",
        "    print(f\"\\nRésultat {idx}:\")\n",
        "    print(f\"Title: {entry['Title']}\")\n",
        "    print(f\"URL: {entry['URL']}\")\n",
        "    print(f\"Description: {entry['Description'][:100]}...\")\n",
        "\n",
        "# Enregistrement des résultats\n",
        "current_time = datetime.now().strftime(\"%Y%m%d_%H%M%S\")\n",
        "output_csv = f\"google_search_results_{current_time}.csv\"\n",
        "\n",
        "with open(output_csv, 'w', newline='', encoding='utf-8') as csv_file:\n",
        "    headers = ['Title', 'URL', 'Description']\n",
        "    csv_writer = csv.DictWriter(csv_file, fieldnames=headers)\n",
        "    csv_writer.writeheader()\n",
        "    for entry in final_results:\n",
        "        csv_writer.writerow(entry)\n",
        "\n",
        "print(f\"\\n{Fore.GREEN}Résultats exportés dans {output_csv} ({len(final_results)} entrées){Style.RESET_ALL}\")\n",
        "\n",
        "print(\"\\nExportation terminée !\")\n",
        "for _ in tqdm(range(5), desc=\"Clôture\"):\n",
        "    time.sleep(0.3)\n",
        "\n"
      ]
    },
    {
      "cell_type": "markdown",
      "id": "5d089070-7b74-4ed8-927e-b642677ea47d",
      "metadata": {
        "id": "5d089070-7b74-4ed8-927e-b642677ea47d"
      },
      "source": [
        "# I - Webscrapping IMDB (Beautiful Soup)"
      ]
    },
    {
      "cell_type": "markdown",
      "id": "1514fd4a-7987-472e-b93d-eb0c5ed88acd",
      "metadata": {
        "id": "1514fd4a-7987-472e-b93d-eb0c5ed88acd"
      },
      "source": [
        "## A - Making a request on the Top 250 movies page"
      ]
    },
    {
      "cell_type": "code",
      "execution_count": null,
      "id": "801b79b7-2bb3-4f49-a61c-11d9e5e67d08",
      "metadata": {
        "id": "801b79b7-2bb3-4f49-a61c-11d9e5e67d08"
      },
      "outputs": [],
      "source": [
        "# Inspection du fichier robots.txt de IMDb\n",
        "# https://www.imdb.com/robots.txt\n",
        "\n",
        "# Requête vers la page IMDb Top 250\n",
        "imdb_url = \"https://www.imdb.com/chart/top/\"\n",
        "request_headers = {\n",
        "    \"User-Agent\": \"Mozilla/5.0 (Windows NT 10.0; Win64; x64) AppleWebKit/537.36 (KHTML, like Gecko) Chrome/114.0.0.0 Safari/537.36\",\n",
        "    \"Accept-Language\": \"en-US,en;q=0.9\"\n",
        "}\n",
        "\n",
        "# Envoi de la requête\n",
        "imdb_response = requests.get(imdb_url, headers=request_headers)\n",
        "\n",
        "print(f\"Statut de la requête : {imdb_response.status_code}\")\n",
        "if imdb_response.status_code == 200:\n",
        "    print(\"Connexion établie avec succès.\")\n",
        "else:\n",
        "    print(\"Échec d'accès à la page IMDb.\")\n",
        "print('')\n"
      ]
    },
    {
      "cell_type": "code",
      "execution_count": null,
      "id": "92b6a338-d1f4-442a-8ddf-40a295363078",
      "metadata": {
        "id": "92b6a338-d1f4-442a-8ddf-40a295363078"
      },
      "outputs": [],
      "source": [
        "# Création d'un objet BeautifulSoup à partir du contenu HTML reçu\n",
        "page_soup = BeautifulSoup(imdb_response.text, \"html.parser\")\n",
        "\n",
        "# Affichage du titre de la page pour validation\n",
        "print(page_soup.title.string)\n"
      ]
    },
    {
      "cell_type": "markdown",
      "id": "f03cdde7-fa46-4920-bd1f-aff13808e6a1",
      "metadata": {
        "id": "f03cdde7-fa46-4920-bd1f-aff13808e6a1"
      },
      "source": [
        "## B - Starting small - retrieving the information of the first movie"
      ]
    },
    {
      "cell_type": "code",
      "execution_count": null,
      "id": "5a9816d4-440b-4838-8f96-b0b673fd4434",
      "metadata": {
        "id": "5a9816d4-440b-4838-8f96-b0b673fd4434",
        "scrolled": true
      },
      "outputs": [],
      "source": [
        "# Utilisation de soup.select_one() pour récupérer la première occurrence souhaitée\n",
        "\n",
        "top_movie_element = page_soup.select_one('.ipc-metadata-list-summary-item__c')\n",
        "print(top_movie_element)\n",
        "\n",
        "# Extraction du titre\n",
        "top_movie_title = top_movie_element.select_one('.ipc-title__text')\n",
        "print(top_movie_title)\n",
        "\n",
        "# Extraction de la note\n",
        "rating_element = top_movie_element.select_one('.ipc-rating-star--rating')\n",
        "movie_rating = float(rating_element.text)\n",
        "print(movie_rating)\n",
        "\n",
        "# Extraction de l'année\n",
        "year_element = top_movie_element.select_one('.ipc-rating-star--rating')\n",
        "print(year_element.text)\n",
        "\n",
        "# Réaffichage de la note pour vérification\n",
        "rating_element = top_movie_element.select_one('.ipc-rating-star--rating')\n",
        "movie_rating = float(rating_element.text)\n",
        "print(movie_rating)\n"
      ]
    },
    {
      "cell_type": "markdown",
      "id": "a299a13d-3916-410f-9781-66c6b4238a5c",
      "metadata": {
        "id": "a299a13d-3916-410f-9781-66c6b4238a5c"
      },
      "source": [
        "## C - Retrieve data for the whole page"
      ]
    },
    {
      "cell_type": "code",
      "execution_count": null,
      "id": "561a7933-55d8-4244-a4b7-2565cc18d9b3",
      "metadata": {
        "id": "561a7933-55d8-4244-a4b7-2565cc18d9b3"
      },
      "outputs": [],
      "source": [
        "# Initialisation des listes pour stocker les données\n",
        "titles_list = []\n",
        "years_list = []\n",
        "ratings_list = []\n",
        "\n",
        "# Récupération de tous les conteneurs de films\n",
        "movie_blocks = page_soup.select('.ipc-metadata-list-summary-item')\n",
        "\n",
        "for block in movie_blocks:\n",
        "    # Extraction du titre\n",
        "    movie_title_element = block.select_one('.ipc-title__text')\n",
        "    if movie_title_element:\n",
        "        titles_list.append(movie_title_element.text.strip())\n",
        "    else:\n",
        "        titles_list.append(None)\n",
        "\n",
        "    # Extraction de l'année\n",
        "    movie_year_element = block.select_one('.sc-5179a348-7')\n",
        "    if movie_year_element:\n",
        "        years_list.append(movie_year_element.text.strip())\n",
        "    else:\n",
        "        years_list.append(None)\n",
        "\n",
        "    # Extraction de la note\n",
        "    movie_rating_element = block.select_one('.ipc-rating-star--rating')\n",
        "    if movie_rating_element:\n",
        "        ratings_list.append(float(movie_rating_element.text.strip()))\n",
        "    else:\n",
        "        ratings_list.append(None)\n",
        "\n",
        "print('Titres :', titles_list)\n",
        "print('Années :', years_list)\n",
        "print('Notes :', ratings_list)\n",
        "\n"
      ]
    },
    {
      "cell_type": "markdown",
      "id": "e0fe6d93-9ea7-492a-bb43-7a19b3ebd350",
      "metadata": {
        "id": "e0fe6d93-9ea7-492a-bb43-7a19b3ebd350"
      },
      "source": [
        "## D - Creating a dataframe and saving the data"
      ]
    },
    {
      "cell_type": "code",
      "execution_count": null,
      "id": "233b5c34-a840-484e-924e-5cf572e2a6f9",
      "metadata": {
        "id": "233b5c34-a840-484e-924e-5cf572e2a6f9"
      },
      "outputs": [],
      "source": [
        "# Création du DataFrame\n",
        "\n",
        "movies_dataframe = pd.DataFrame({\n",
        "    'Title': titles_list,\n",
        "    'Year': years_list,\n",
        "    'Rating': ratings_list\n",
        "})\n",
        "\n",
        "movies_dataframe.head()\n",
        "\n",
        "# Vérification du répertoire actuel\n",
        "current_dir = os.getcwd()\n",
        "print(f\"Dossier de travail actuel : {current_dir}\")\n",
        "\n",
        "# Sauvegarde du DataFrame dans un dossier dédié\n",
        "\n",
        "output_path = os.path.join('..', 'notebooks')\n",
        "output_file = 'imdb_top_movies.csv'\n",
        "movies_dataframe.to_csv(f'{output_path}/{output_file}', index=False)\n",
        "print(f\"Données exportées vers {output_path}/{output_file}\")\n"
      ]
    },
    {
      "cell_type": "markdown",
      "id": "acdca746-91a1-422d-8b4d-ac31c11b31f6",
      "metadata": {
        "id": "acdca746-91a1-422d-8b4d-ac31c11b31f6"
      },
      "source": [
        "# II - Webscrapping an Olist Website"
      ]
    },
    {
      "cell_type": "markdown",
      "id": "273e8403-3589-4ed0-924c-720b07e6044f",
      "metadata": {
        "id": "273e8403-3589-4ed0-924c-720b07e6044f"
      },
      "source": [
        "## A - Fetch one product"
      ]
    },
    {
      "cell_type": "code",
      "execution_count": null,
      "id": "45c53193-6974-4590-980d-30815b70ec91",
      "metadata": {
        "id": "45c53193-6974-4590-980d-30815b70ec91"
      },
      "outputs": [],
      "source": [
        "# Configuration de Chrome en mode headless\n",
        "headless_options = Options()\n",
        "headless_options.add_argument('--headless')\n",
        "headless_options.add_argument('--no-sandbox')\n",
        "headless_options.add_argument('--disable-dev-shm-usage')\n",
        "headless_options.add_argument('user-agent=Mozilla/5.0 (Windows NT 10.0; Win64; x64) AppleWebKit/537.36 (KHTML, like Gecko) Chrome/114.0.0.0 Safari/537.36')\n",
        "\n",
        "# Installation du ChromeDriver\n",
        "browser_service = Service(ChromeDriverManager().install())\n",
        "\n",
        "# Création du navigateur\n",
        "browser = webdriver.Chrome(service=browser_service, options=headless_options)\n",
        "\n",
        "product_url = \"https://www.sunsetcosmeticos.com.br/produto/base-cobertura-total-maple-absolute-new-york-208\"\n",
        "\n",
        "browser.get(product_url)\n",
        "\n",
        "# Extraction des informations\n",
        "product_title = browser.find_element('css selector', 'h1.name')\n",
        "print(product_title.text)\n",
        "\n",
        "product_price = browser.find_element('css selector', 'span.cmp-price-price')\n",
        "print(product_price.text)\n",
        "\n",
        "product_rating = browser.find_element('css selector', 'p.value')\n",
        "print(product_rating.text)\n"
      ]
    },
    {
      "cell_type": "code",
      "execution_count": null,
      "id": "d42f59ff-6272-48bc-8f6e-75fb54e3b610",
      "metadata": {
        "id": "d42f59ff-6272-48bc-8f6e-75fb54e3b610"
      },
      "outputs": [],
      "source": [
        "# Transformation du code en fonction\n",
        "\n",
        "def scrape_product_info(browser, product_link):\n",
        "    browser.get(product_link)\n",
        "\n",
        "    try:\n",
        "        product_title = browser.find_element('css selector', 'h1.name')\n",
        "        product_title = product_title.text\n",
        "        print(product_title)\n",
        "    except Exception:\n",
        "        product_title = None\n",
        "        print('Erreur lors de la récupération du titre')\n",
        "\n",
        "    try:\n",
        "        product_price = browser.find_element('css selector', 'span.cmp-price-price')\n",
        "        product_price = product_price.text\n",
        "        print(product_price)\n",
        "    except Exception:\n",
        "        product_price = None\n",
        "        print('Erreur lors de la récupération du prix')\n",
        "\n",
        "    try:\n",
        "        product_rating = browser.find_element('css selector', 'p.value')\n",
        "        product_rating = product_rating.text\n",
        "        print(product_rating)\n",
        "    except Exception:\n",
        "        product_rating = None\n",
        "        print('Erreur lors de la récupération de la note')\n",
        "\n",
        "    product_data = {\n",
        "        'title': product_title,\n",
        "        'price': product_price,\n",
        "        'rating': product_rating\n",
        "    }\n",
        "    return product_data\n",
        "\n",
        "# Exécution de la fonction pour tester\n",
        "scrape_product_info(browser, 'https://www.sunsetcosmeticos.com.br/produto/base-corbertura-total-maple-absolute-new-york-208')\n",
        "\n"
      ]
    },
    {
      "cell_type": "markdown",
      "id": "dbcc0c65-81f3-484f-ab14-0a425769e812",
      "metadata": {
        "id": "dbcc0c65-81f3-484f-ab14-0a425769e812"
      },
      "source": [
        "## B - Fetch one brand"
      ]
    },
    {
      "cell_type": "code",
      "execution_count": null,
      "id": "f818fb76-6260-4e78-9625-7420ea533863",
      "metadata": {
        "id": "f818fb76-6260-4e78-9625-7420ea533863"
      },
      "outputs": [],
      "source": [
        "# Démarrage par récupération de l'URL du premier produit de la page, puis utilisation de la fonction\n",
        "\n",
        "# Configuration de Chrome en mode sans interface (headless)\n",
        "headless_options = Options()\n",
        "headless_options.add_argument('--headless')\n",
        "headless_options.add_argument('--no-sandbox')\n",
        "headless_options.add_argument('--disable-dev-shm-usage')\n",
        "headless_options.add_argument('user-agent=Mozilla/5.0 (Windows NT 10.0; Win64; x64) AppleWebKit/537.36 (KHTML, like Gecko) Chrome/114.0.0.0 Safari/537.36')\n",
        "\n",
        "# Installation du ChromeDriver\n",
        "chrome_service = Service(ChromeDriverManager().install())\n",
        "\n",
        "# Création du navigateur headless\n",
        "browser = webdriver.Chrome(service=chrome_service, options=headless_options)\n",
        "\n",
        "store_url = 'https://www.sunsetcosmeticos.com.br/absolute_new_york'\n",
        "browser.get(store_url)\n",
        "\n",
        "# Récupération de l'URL du premier produit affiché\n",
        "first_product_link = browser.find_element(By.CSS_SELECTOR, 'div.product-block a.anchor')\n",
        "first_product_href = first_product_link.get_attribute('href')\n",
        "print(\"URL du premier produit :\", first_product_href)\n",
        "\n",
        "# Récupération des informations du produit\n",
        "scrape_product_info(browser, first_product_href)\n",
        "\n",
        "# Fermeture du navigateur\n",
        "browser.quit()\n"
      ]
    },
    {
      "cell_type": "code",
      "execution_count": null,
      "id": "cc8b08fe-c913-4f0a-a88c-a013ae74369a",
      "metadata": {
        "id": "cc8b08fe-c913-4f0a-a88c-a013ae74369a"
      },
      "outputs": [],
      "source": [
        "# Généraliser la récupération pour tous les produits de la page (sans scroll pour l'instant)\n",
        "\n",
        "browser = webdriver.Chrome(service=chrome_service, options=headless_options)\n",
        "\n",
        "# Récupération des liens de tous les produits visibles\n",
        "product_links = browser.find_elements(By.CSS_SELECTOR, 'div.product-block a.anchor')\n",
        "all_product_urls = [link.get_attribute('href') for link in product_links]\n",
        "\n",
        "# Extraction des informations pour chaque produit\n",
        "for product_link in all_product_urls:\n",
        "    scrape_product_info(browser, product_link)\n",
        "\n",
        "# Fermeture du navigateur\n",
        "browser.quit()\n",
        "\n",
        "\n"
      ]
    },
    {
      "cell_type": "code",
      "execution_count": null,
      "id": "cf771f8e-8c94-4b55-a588-ea763a5f7528",
      "metadata": {
        "id": "cf771f8e-8c94-4b55-a588-ea763a5f7528",
        "scrolled": true
      },
      "outputs": [],
      "source": [
        "# Fonction pour scroller et charger plus de produits\n",
        "\n",
        "def scroll_until_loaded(browser, max_attempts=20):\n",
        "    '''\n",
        "    Scroll automatique de la page jusqu'à chargement complet des produits\n",
        "    On compare le nombre de produits avant et après chaque scroll\n",
        "    Si aucun nouveau produit détecté, arrêt du scroll\n",
        "    '''\n",
        "    previous_total = len(browser.find_elements(By.CLASS_NAME, \"product-block\"))\n",
        "    attempts = 0\n",
        "\n",
        "    while attempts < max_attempts:\n",
        "        browser.execute_script(\"window.scrollTo(0, document.body.scrollHeight);\")\n",
        "        time.sleep(2)  # Attente du chargement\n",
        "\n",
        "        current_total = len(browser.find_elements(By.CLASS_NAME, \"product-block\"))\n",
        "\n",
        "        if current_total == previous_total:\n",
        "            break\n",
        "\n",
        "        previous_total = current_total\n",
        "        attempts += 1\n",
        "\n",
        "# Fonction pour récupérer tous les produits d'une marque\n",
        "\n",
        "def collect_brand_products(browser, brand_name):\n",
        "    '''\n",
        "    Récupère tous les produits d'une marque :\n",
        "    - Accède à la page de la marque\n",
        "    - Scroll pour tout charger\n",
        "    - Récupère les liens de chaque produit\n",
        "    - Visite chaque lien pour extraire les infos\n",
        "    Retourne une liste de dictionnaires produits\n",
        "    '''\n",
        "\n",
        "    brand_page = f'https://www.sunsetcosmeticos.com.br/{brand_name}'\n",
        "    browser.get(brand_page)\n",
        "\n",
        "    scroll_until_loaded(browser)\n",
        "\n",
        "    product_cards = browser.find_elements(By.CSS_SELECTOR, 'div.product-block a.anchor')\n",
        "    product_links = [card.get_attribute('href') for card in product_cards]\n",
        "\n",
        "    print(f\"Nombre de produits trouvés pour la marque '{brand_name}' : {len(product_links)}\")\n",
        "\n",
        "    all_products = []\n",
        "    for link in product_links:\n",
        "        product_info = scrape_product_info(browser, link)\n",
        "        if product_info:\n",
        "            all_products.append(product_info)\n",
        "\n",
        "    return all_products\n"
      ]
    },
    {
      "cell_type": "code",
      "execution_count": null,
      "id": "0bb3bcb5-7763-453a-9fad-5bae9f0a4b15",
      "metadata": {
        "id": "0bb3bcb5-7763-453a-9fad-5bae9f0a4b15"
      },
      "outputs": [],
      "source": [
        "# Test du code\n",
        "\n",
        "browser = webdriver.Chrome(service=chrome_service, options=headless_options)\n",
        "\n",
        "brand_name = 'absolute-new-york'\n",
        "absolute_new_york_products = collect_brand_products(browser, brand_name)\n",
        "df_products = pd.DataFrame(absolute_new_york_products)\n",
        "\n",
        "df_products.head(5)\n",
        "\n",
        "browser.quit()\n",
        "\n",
        "# Sauvegarde du DataFrame dans le dossier choisi\n",
        "\n",
        "output_filename = brand_name.replace('-', '_') + '.csv'\n",
        "print(output_filename)\n",
        "output_directory = os.path.join('..', 'notebooks')\n",
        "df_products.to_csv(f'{output_directory}/{output_filename}', index=False)\n",
        "print(f\"Données enregistrées dans {output_filename} ({len(df_products)} produits)\")\n"
      ]
    },
    {
      "cell_type": "markdown",
      "id": "d641dd6c-afd7-4c31-b599-4b75f9db1325",
      "metadata": {
        "id": "d641dd6c-afd7-4c31-b599-4b75f9db1325"
      },
      "source": [
        "## C - All brands"
      ]
    },
    {
      "cell_type": "code",
      "execution_count": null,
      "id": "c15e9eeb-74de-4842-8836-a34b1a1c9e31",
      "metadata": {
        "id": "c15e9eeb-74de-4842-8836-a34b1a1c9e31"
      },
      "outputs": [],
      "source": [
        "# Remplissage de la fonction finale\n",
        "\n",
        "def scrape_all_brands(browser, start_url='https://www.sunsetcosmeticos.com.br/p/marcas'):\n",
        "    \"\"\"\n",
        "    Récupère tous les liens de marques,\n",
        "    visite chaque page de marque, scrape les produits avec collect_brand_products,\n",
        "    et retourne une liste de dictionnaires de produits.\n",
        "    \"\"\"\n",
        "    import time\n",
        "\n",
        "    collected_products = []\n",
        "\n",
        "    browser.get(start_url)\n",
        "    time.sleep(2)\n",
        "\n",
        "    brand_links = browser.find_elements(By.CSS_SELECTOR, 'div.tag a.anchor')\n",
        "    brand_pages = [link.get_attribute('href') for link in brand_links]\n",
        "\n",
        "    print(f\"Nombre de marques détectées : {len(brand_pages)}\")\n",
        "\n",
        "    for brand_page in brand_pages:\n",
        "        try:\n",
        "            brand_slug = brand_page.strip('/').split('/')[-1]\n",
        "\n",
        "            print(f\"\\n🔎 Traitement de la marque : {brand_slug}\")\n",
        "            products_list = collect_brand_products(browser, brand_slug)\n",
        "            print(f\"{len(products_list)} produits collectés pour {brand_slug}\")\n",
        "\n",
        "            for product in products_list:\n",
        "                product['brand'] = brand_slug\n",
        "\n",
        "            collected_products.extend(products_list)\n",
        "\n",
        "        except Exception as error:\n",
        "            print(f\"Erreur lors du traitement de la marque '{brand_page}': {error}\")\n",
        "            continue\n",
        "\n",
        "    return collected_products\n",
        "\n"
      ]
    },
    {
      "cell_type": "code",
      "execution_count": null,
      "id": "70808ae9-b9fd-499b-b86e-8cb27e4eb891",
      "metadata": {
        "id": "70808ae9-b9fd-499b-b86e-8cb27e4eb891"
      },
      "outputs": [],
      "source": [
        "# Test du scraping complet : récupération de tous les produits de sunsetcosmeticos et sauvegarde\n",
        "\n",
        "browser = webdriver.Chrome(service=chrome_service, options=headless_options)\n",
        "\n",
        "all_scraped_products = scrape_all_brands(browser)\n",
        "df_all_brands = pd.DataFrame(all_scraped_products)\n",
        "\n",
        "print(df_all_brands.head(3))\n",
        "print(f\"\\nTotal : {len(df_all_brands)} produits récupérés.\")\n",
        "\n",
        "df_all_brands.to_csv('all_brands.csv', index=False, encoding='utf-8-sig')\n",
        "\n",
        "browser.quit()\n",
        "\n"
      ]
    }
  ],
  "metadata": {
    "colab": {
      "provenance": []
    },
    "kernelspec": {
      "display_name": "Python 3 (ipykernel)",
      "language": "python",
      "name": "python3"
    },
    "language_info": {
      "codemirror_mode": {
        "name": "ipython",
        "version": 3
      },
      "file_extension": ".py",
      "mimetype": "text/x-python",
      "name": "python",
      "nbconvert_exporter": "python",
      "pygments_lexer": "ipython3",
      "version": "3.12.4"
    }
  },
  "nbformat": 4,
  "nbformat_minor": 5
}
