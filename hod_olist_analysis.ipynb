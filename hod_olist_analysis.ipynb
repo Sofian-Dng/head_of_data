{
  "cells": [
    {
      "cell_type": "code",
      "execution_count": null,
      "id": "04b8dfda-c0a2-4813-b271-4f15df4a4008",
      "metadata": {
        "id": "04b8dfda-c0a2-4813-b271-4f15df4a4008"
      },
      "outputs": [],
      "source": [
        "print('hello')"
      ]
    },
    {
      "cell_type": "code",
      "execution_count": null,
      "id": "7b07c3e9-a64d-4ad6-a165-86c93a94688f",
      "metadata": {
        "id": "7b07c3e9-a64d-4ad6-a165-86c93a94688f"
      },
      "outputs": [],
      "source": [
        "# downloading the libraries\n",
        "\n",
        "import warnings\n",
        "warnings.simplefilter(action='ignore', category=DeprecationWarning)\n",
        "\n",
        "import pandas as pd\n",
        "pd.set_option('display.max_columns', 100)\n",
        "import numpy as np\n",
        "import seaborn as sns\n",
        "import matplotlib\n",
        "import matplotlib.pyplot as plt\n",
        "from matplotlib.colors import LinearSegmentedColormap # correlation matrix\n",
        "\n",
        "# worldcloud\n",
        "import random\n",
        "from wordcloud import WordCloud\n",
        "\n",
        "# display ERD\n",
        "from IPython.display import Image\n",
        "\n"
      ]
    },
    {
      "cell_type": "markdown",
      "id": "01bf773a-fc17-4b0b-94e1-4f9f2f1adde9",
      "metadata": {
        "id": "01bf773a-fc17-4b0b-94e1-4f9f2f1adde9"
      },
      "source": [
        "# I - Exploring the data"
      ]
    },
    {
      "cell_type": "markdown",
      "id": "6567fb94-adb3-4bbc-aafc-4169f6a8c076",
      "metadata": {
        "id": "6567fb94-adb3-4bbc-aafc-4169f6a8c076"
      },
      "source": [
        "objective is to get more familiar with the data and review pandas / visulization logic"
      ]
    },
    {
      "cell_type": "markdown",
      "id": "938cabb9-26a2-4b7f-90e6-c4321c8d20d2",
      "metadata": {
        "id": "938cabb9-26a2-4b7f-90e6-c4321c8d20d2"
      },
      "source": [
        "## A - Fetching the data"
      ]
    },
    {
      "cell_type": "code",
      "execution_count": null,
      "id": "a7de76f9-8c3d-4ab5-962c-8093b3696641",
      "metadata": {
        "id": "a7de76f9-8c3d-4ab5-962c-8093b3696641"
      },
      "outputs": [],
      "source": [
        "# understanding where the files are located with terminal operations\n",
        "\n",
        "!cd"
      ]
    },
    {
      "cell_type": "code",
      "execution_count": null,
      "id": "780a0880-4503-48cd-b83f-61f8bec743f4",
      "metadata": {
        "id": "780a0880-4503-48cd-b83f-61f8bec743f4"
      },
      "outputs": [],
      "source": [
        "# adding the path to fetch the files\n",
        "\n",
        "raw_path = '../albert-hod-shared/notebooks'\n"
      ]
    },
    {
      "cell_type": "code",
      "execution_count": null,
      "id": "61b78017-adc4-408e-9a0a-61dbe3d89946",
      "metadata": {
        "id": "61b78017-adc4-408e-9a0a-61dbe3d89946"
      },
      "outputs": [],
      "source": [
        "# creating pandas dataframes from .csv\n",
        "\n",
        "df_customer = pd.read_csv(f'../data/olist_datasets/olist_customers_dataset.csv')\n",
        "df_geolocation = pd.read_csv(f'../data/olist_datasets/olist_geolocation_dataset.csv')\n",
        "df_orders = pd.read_csv(f'../data/olist_datasets/olist_orders_dataset.csv')\n",
        "df_order_items = pd.read_csv(f'../data/olist_datasets/olist_order_items_dataset.csv')\n",
        "df_order_payments = pd.read_csv(f'../data/olist_datasets/olist_order_payments_dataset.csv')\n",
        "df_order_reviews = pd.read_csv(f'../data/olist_datasets/olist_order_reviews_dataset.csv')\n",
        "df_products = pd.read_csv(f'../data/olist_datasets/olist_products_dataset.csv')\n",
        "df_sellers = pd.read_csv(f'../data/olist_datasets/olist_sellers_dataset.csv')\n"
      ]
    },
    {
      "cell_type": "markdown",
      "id": "46dba6ab-75e4-47ea-be19-3845a5a15924",
      "metadata": {
        "id": "46dba6ab-75e4-47ea-be19-3845a5a15924"
      },
      "source": [
        "## B - Exploring the orders dataframe"
      ]
    },
    {
      "cell_type": "code",
      "execution_count": null,
      "id": "5b79b60c-41a3-42b3-bbcf-3b824fe98174",
      "metadata": {
        "id": "5b79b60c-41a3-42b3-bbcf-3b824fe98174"
      },
      "outputs": [],
      "source": [
        "# printing columns, null count, and dtypes for the orders dataframe\n",
        "\n",
        "df_orders.info()\n"
      ]
    },
    {
      "cell_type": "code",
      "execution_count": null,
      "id": "b647ad48-27a9-4f74-a04f-4a9b6816270d",
      "metadata": {
        "id": "b647ad48-27a9-4f74-a04f-4a9b6816270d"
      },
      "outputs": [],
      "source": [
        "# printing the first 10 lines of the orders dataframe\n",
        "\n",
        "df_orders.head(10)\n",
        "\n",
        "# the last 10 lines of the dataframe\n",
        "\n",
        "df_orders.tail(10)\n",
        "\n",
        "# a sample of ten lines\n",
        "\n",
        "df_orders.sample(10)\n",
        "\n",
        "# getting all null values\n",
        "\n",
        "df_orders.isnull().sum()\n"
      ]
    },
    {
      "cell_type": "markdown",
      "id": "a3981fbc-7cd4-40b5-ba06-9fbd76fb315f",
      "metadata": {
        "id": "a3981fbc-7cd4-40b5-ba06-9fbd76fb315f"
      },
      "source": [
        "**why are there null values for approved_at, delivered_carrier_date, delivered_customer_date?**\n",
        "\n",
        "*-> answer: because some orders are not approved/delivered yet"
      ]
    },
    {
      "cell_type": "code",
      "execution_count": null,
      "id": "d6242cb9-219c-4415-a1bc-3fd241ba7a3e",
      "metadata": {
        "id": "d6242cb9-219c-4415-a1bc-3fd241ba7a3e"
      },
      "outputs": [],
      "source": [
        "# fetching only particular columns of the df_orders dataframe\n",
        "\n",
        "## fetch the order_approved_at columns in a data series format, then in a dataframe format, and print the first five lines\n",
        "\n",
        "df_orders_approved_at = df_orders[['order_approved_at']]\n",
        "\n",
        "df_orders_approved_at.head(5)\n",
        "\n",
        "## fetch the order_id, order_status, approved_at, delivered_carrier_date, delivered_customer_date\n",
        "\n",
        "df_test = df_orders[['order_approved_at','order_id','order_status','order_approved_at','order_delivered_carrier_date','order_delivered_customer_date']]"
      ]
    },
    {
      "cell_type": "code",
      "execution_count": null,
      "id": "dcf4dad7-dcfa-47a5-a51a-22b8653b3b10",
      "metadata": {
        "id": "dcf4dad7-dcfa-47a5-a51a-22b8653b3b10"
      },
      "outputs": [],
      "source": [
        "# fetching the approved_at null columns - create another dataframe df_filtered, which will be filtered on order_approved_at is null, and print first 10 rows\n",
        "\n",
        "df_filtered = df_orders[df_orders['order_approved_at'].isnull()]\n",
        "df_filtered.head()\n"
      ]
    },
    {
      "cell_type": "code",
      "execution_count": null,
      "id": "b7df68f9-4e45-4895-b7be-214bb8566ede",
      "metadata": {
        "id": "b7df68f9-4e45-4895-b7be-214bb8566ede"
      },
      "outputs": [],
      "source": [
        "# count the order_id with a null approved_at by order_status\n",
        "\n",
        "# with groupby method\n",
        "\n",
        "df_grouped = df_filtered.groupby('order_status').agg(\n",
        "    order_count=('order_id', 'count'),\n",
        "    purchase_min=('order_purchase_timestamp', 'min')\n",
        ")\n",
        "\n",
        "df_grouped\n",
        "\n",
        "# with value_counts method\n",
        "df_status_counts = df_filtered['order_status'].value_counts().reset_index()\n",
        "df_status_counts.columns = ['order_status', 'order_count']\n",
        "\n",
        "df_status_counts.head()\n",
        "\n"
      ]
    },
    {
      "cell_type": "markdown",
      "id": "7170eb25-8ccf-4a38-8d3f-a23edb348f5d",
      "metadata": {
        "id": "7170eb25-8ccf-4a38-8d3f-a23edb348f5d"
      },
      "source": [
        "**what do you think of the results? Why is there a null approved at to begin with?**\n",
        "\n",
        "-> *answer*: Most null approved at are from canceled/uncompleted orders. However, the 14 delivered are likely due to data issues."
      ]
    },
    {
      "cell_type": "markdown",
      "id": "e62bcea1-d60a-4b04-9dd8-feb9c8e3cd1f",
      "metadata": {
        "id": "e62bcea1-d60a-4b04-9dd8-feb9c8e3cd1f"
      },
      "source": [
        "## C - Creating a simple visualization using Matplotlib or Seaborn"
      ]
    },
    {
      "cell_type": "code",
      "execution_count": null,
      "id": "7b288511-a48c-4682-9556-06e6d24e141f",
      "metadata": {
        "id": "7b288511-a48c-4682-9556-06e6d24e141f"
      },
      "outputs": [],
      "source": [
        "# Creating a simple plot with matplotlib: count of non-approved orders by status\n",
        "\n",
        "non_approved_orders = df_orders[df_orders['order_approved_at'].isnull()]\n",
        "\n",
        "non_approved_counts = non_approved_orders.groupby('order_status')['order_id'].count()\n",
        "\n",
        "fig, ax = plt.subplots(figsize=(12,6))\n",
        "\n",
        "ax = plt.bar(non_approved_counts.index, non_approved_counts.values)\n",
        "\n",
        "plt.xlabel('order_status')\n",
        "plt.ylabel('count of non-approved orders')\n",
        "plt.title('count of non-approved orders by status', fontsize=12, fontweight='bold')\n",
        "\n",
        "plt.show()\n"
      ]
    },
    {
      "cell_type": "code",
      "execution_count": null,
      "id": "8f29a5ef-7994-43b5-8b97-97757843bcb3",
      "metadata": {
        "id": "8f29a5ef-7994-43b5-8b97-97757843bcb3"
      },
      "outputs": [],
      "source": [
        "# Creating a simple plot with seaborn: count of non-approved orders by status\n",
        "\n",
        "# Filter for non-approved orders\n",
        "non_approved_orders = df_orders[df_orders['order_approved_at'].isnull()]\n",
        "\n",
        "# Count the number of non-approved orders by status\n",
        "non_approved_counts = non_approved_orders.groupby('order_status')['order_id'].count().reset_index()\n",
        "\n",
        "# Create a bar plot using Seaborn\n",
        "plt.figure(figsize=(12, 6))\n",
        "sns.barplot(x='order_status', y='order_id', data=non_approved_counts)\n",
        "\n",
        "# Set labels and title\n",
        "plt.xlabel('Order Status')\n",
        "plt.ylabel('Count of Non-Approved Orders')\n",
        "plt.title('Count of Non-Approved Orders by Status', fontsize=12, fontweight='bold')\n",
        "\n",
        "# Show the plot\n",
        "plt.show()"
      ]
    },
    {
      "cell_type": "markdown",
      "id": "f3c7ae68-7b2b-4dcd-9877-ed29ab8b3910",
      "metadata": {
        "id": "f3c7ae68-7b2b-4dcd-9877-ed29ab8b3910"
      },
      "source": [
        "## D - Exploring all dataframes at once"
      ]
    },
    {
      "cell_type": "code",
      "execution_count": null,
      "id": "98e3bc74-8a34-4d5e-8413-6a2bfaf0d0e0",
      "metadata": {
        "id": "98e3bc74-8a34-4d5e-8413-6a2bfaf0d0e0"
      },
      "outputs": [],
      "source": [
        "# an interesting way to look at all dataframes at once, to quickly get what are the null columns\n",
        "\n",
        "# Collections for each dataset\n",
        "datasets = [df_customer, df_geolocation, df_orders, df_order_items, df_order_payments,\n",
        "            df_order_reviews, df_products, df_sellers]\n",
        "names = ['df_customer', 'df_geolocation', 'df_orders', 'df_order_items', 'df_order_payments',\n",
        "         'df_order_reviews', 'df_products', 'df_sellers']\n",
        "\n",
        "# Creating a DataFrame with useful information about all datasets\n",
        "data_info = pd.DataFrame({})\n",
        "data_info['dataset'] = names\n",
        "data_info['n_rows'] = [df.shape[0] for df in datasets]\n",
        "data_info['n_cols'] = [df.shape[1] for df in datasets]\n",
        "data_info['null_amount'] = [df.isnull().sum().sum() for df in datasets]\n",
        "data_info['qty_null_columns'] = [len([col for col, null in df.isnull().sum().items() if null > 0]) for df in datasets]\n",
        "data_info['null_columns'] = [', '.join([col for col, null in df.isnull().sum().items() if null > 0]) for df in datasets]\n",
        "\n",
        "data_info.style.background_gradient()\n"
      ]
    },
    {
      "cell_type": "markdown",
      "id": "61ac1142-b8db-4825-abaa-a255de705846",
      "metadata": {
        "id": "61ac1142-b8db-4825-abaa-a255de705846"
      },
      "source": [
        "**What are the dataframes with the most null columns? What's your explanation?**\n",
        "\n",
        "*->answer:* df_order_reviews has the most null columns by far, likely due to missing review comments.\n",
        "df_orders and df_products also have missing data, possibly from incomplete order details and product attributes."
      ]
    },
    {
      "cell_type": "markdown",
      "id": "03a9c5e7-3a37-4d9e-b353-1da409087e85",
      "metadata": {
        "id": "03a9c5e7-3a37-4d9e-b353-1da409087e85"
      },
      "source": [
        "## E - Joining 2 dataframes - how many orders were created in SP state?"
      ]
    },
    {
      "cell_type": "code",
      "execution_count": null,
      "id": "23ba1309-9ce9-46ac-b8ec-ba17d39991c9",
      "metadata": {
        "id": "23ba1309-9ce9-46ac-b8ec-ba17d39991c9"
      },
      "outputs": [],
      "source": [
        "# which dataframes do we need to join to answer the question? Explore the dataframes and look for a link between orders and state\n",
        "\n",
        "df_customer.head()"
      ]
    },
    {
      "cell_type": "code",
      "execution_count": null,
      "id": "ae164a7a-ee3d-4144-89d6-089c3fa891f9",
      "metadata": {
        "id": "ae164a7a-ee3d-4144-89d6-089c3fa891f9"
      },
      "outputs": [],
      "source": [
        "# Merge the 2 datasets in a new df_merged dataset, and print the first 5 rows\n",
        "\n",
        "df_merged = df_orders.merge(df_customer[['customer_id','customer_state']], on='customer_id', how='left')\n",
        "df_merged.head()"
      ]
    },
    {
      "cell_type": "code",
      "execution_count": null,
      "id": "d2574a49-1382-4432-842e-b34ba9103055",
      "metadata": {
        "id": "d2574a49-1382-4432-842e-b34ba9103055"
      },
      "outputs": [],
      "source": [
        "# filter the dataframe to have only rows with state = SP, and print the first 5 lines\n",
        "\n",
        "df_merged_filtered = df_merged[df_merged.customer_state == 'SP']\n",
        "df_merged_filtered = df_merged[df_merged['customer_state'] == 'SP']\n",
        "df_merged_filtered.head()"
      ]
    },
    {
      "cell_type": "code",
      "execution_count": null,
      "id": "cbbb76b1-f8eb-48a9-ab0f-4a2a66fb75c7",
      "metadata": {
        "id": "cbbb76b1-f8eb-48a9-ab0f-4a2a66fb75c7"
      },
      "outputs": [],
      "source": [
        "# count the number of orders by state, using both groupby and value_counts\n",
        "\n",
        "# with groupby method\n",
        "\n",
        "# with value_counts method\n",
        "df_merged_filtered['customer_state'].value_counts()"
      ]
    },
    {
      "cell_type": "markdown",
      "id": "c5fb22e2-1484-4550-b4de-6b2584b3d941",
      "metadata": {
        "id": "c5fb22e2-1484-4550-b4de-6b2584b3d941"
      },
      "source": [
        "# II - Exploratory analysis"
      ]
    },
    {
      "cell_type": "markdown",
      "id": "6f10b9eb-bc68-4d71-b562-5a78f1c7570a",
      "metadata": {
        "id": "6f10b9eb-bc68-4d71-b562-5a78f1c7570a"
      },
      "source": [
        "our objective is to a) give an overview of the business, b) understand what's driving the bad reviews"
      ]
    },
    {
      "cell_type": "markdown",
      "id": "ce93cb9a-f302-4c3b-ab2e-9e96f5433050",
      "metadata": {
        "id": "ce93cb9a-f302-4c3b-ab2e-9e96f5433050"
      },
      "source": [
        "## A - Creating a uniform dataframe for our analysis"
      ]
    },
    {
      "cell_type": "markdown",
      "id": "91b2fd90-6b48-4b3b-a9f3-e452454e4639",
      "metadata": {
        "id": "91b2fd90-6b48-4b3b-a9f3-e452454e4639"
      },
      "source": [
        "**Creating an ERD of the database**\n",
        "\n",
        "- in an ERD diagram tool\n",
        "- create one item per table\n",
        "- list all columns\n",
        "- list their type\n",
        "- find the primary and foreign keys\n",
        "- link the tables together\n",
        "\n",
        "--> upload directly the ERD in the notebook"
      ]
    },
    {
      "cell_type": "code",
      "execution_count": null,
      "id": "e315921a-153c-4a64-b260-4d7535248f85",
      "metadata": {
        "id": "e315921a-153c-4a64-b260-4d7535248f85"
      },
      "outputs": [],
      "source": [
        "# Displaying the image with Ipython Image module\n",
        "\n",
        "## the image is in the data/ERD folder\n",
        "filename = '../data/ERD/olist_erd.png'\n",
        "\n",
        "Image(filename=filename)\n"
      ]
    },
    {
      "cell_type": "code",
      "execution_count": null,
      "id": "21d73892-67e1-480b-a3a6-066e24e854c9",
      "metadata": {
        "id": "21d73892-67e1-480b-a3a6-066e24e854c9"
      },
      "outputs": [],
      "source": [
        "# Merging the dataframes using the ERD above\n",
        "\n",
        "df = df_orders.merge(df_order_items, on='order_id', how='left')\n",
        "df = df.merge(df_products, on='product_id', how='left')\n",
        "df = df.merge(df_customer, on='customer_id', how='left')\n",
        "# df = df.merge(df_sellers, on='seller_id', how='left')\n",
        "df = df.merge(df_order_reviews, on='order_id', how='left')\n",
        "# df = df.merge(df_geolocation, how='left',left_on='customer_zip_code_prefix',right_on='geolocation_zip_code_prefix')\n",
        "# df = df.merge(df_order_payments, on='order_id', how='left')\n",
        "\n",
        "df.head()\n"
      ]
    },
    {
      "cell_type": "code",
      "execution_count": null,
      "id": "8f4bf81e-f327-4676-9952-92c32be7a415",
      "metadata": {
        "id": "8f4bf81e-f327-4676-9952-92c32be7a415"
      },
      "outputs": [],
      "source": [
        "# Cleaning the dataframe and creating additional columns that will be useful for further analysis\n",
        "\n",
        "# Ensure timestamps are in datetime format\n",
        "df['order_purchase_timestamp'] = pd.to_datetime(df['order_purchase_timestamp'], errors='coerce')\n",
        "df['order_delivered_customer_date'] = pd.to_datetime(df['order_delivered_customer_date'], errors='coerce')\n",
        "df['delivery_time'] = (df['order_delivered_customer_date'] - df['order_purchase_timestamp']).dt.days\n",
        "\n",
        "# Create useful features from order_purchase_timestamp\n",
        "df['year'] = df['order_purchase_timestamp'].dt.year                   # year as integer\n",
        "df['month'] = df['order_purchase_timestamp'].dt.month                  # month as integer\n",
        "df['week'] = df['order_purchase_timestamp'].dt.isocalendar().week      # week in iso format (1, 2, 3 etc.)\n",
        "df['day_of_week_int'] = df['order_purchase_timestamp'].dt.weekday + 1  # day of week as integer (1 = Monday, etc.)\n",
        "df['hour'] = df['order_purchase_timestamp'].dt.hour                   # hour of day\n",
        "df['year_month'] = df['order_purchase_timestamp'].dt.strftime('%Y-%m')  # year and month, just like 2017-10\n",
        "\n",
        "df.head()\n",
        "\n"
      ]
    },
    {
      "cell_type": "markdown",
      "id": "fe4bd86f-1449-469a-94ad-81d6f9ec7a8e",
      "metadata": {
        "id": "fe4bd86f-1449-469a-94ad-81d6f9ec7a8e"
      },
      "source": [
        "## B - Looking at Reviews"
      ]
    },
    {
      "cell_type": "markdown",
      "id": "8a6dfee8-ab8d-425b-9f11-93f8de1c15c7",
      "metadata": {
        "id": "8a6dfee8-ab8d-425b-9f11-93f8de1c15c7"
      },
      "source": [
        "### 1 - Let's look at the distribution of the review score"
      ]
    },
    {
      "cell_type": "code",
      "execution_count": null,
      "id": "7e9009c1-9a22-4766-ac83-6ae4a824895f",
      "metadata": {
        "id": "7e9009c1-9a22-4766-ac83-6ae4a824895f"
      },
      "outputs": [],
      "source": [
        "# Create a distribution plot (dist plot) with seaborn on the review score\n",
        "\n",
        "# Create a bar plot for the review_score column\n",
        "sns.countplot(data=df, x='review_score')\n",
        "\n",
        "# Add labels and a title\n",
        "plt.title('Distribution of Review Scores')\n",
        "plt.xlabel('Review Score')\n",
        "plt.ylabel('Frequency')\n",
        "\n",
        "# Show the plot\n",
        "plt.show()"
      ]
    },
    {
      "cell_type": "markdown",
      "id": "3b669084-b68d-4c67-b843-ffd19499203f",
      "metadata": {
        "id": "3b669084-b68d-4c67-b843-ffd19499203f"
      },
      "source": [
        "**What do you make of those results?**\n",
        "\n",
        "*->answer:* The majority of reviews are positive, with 4.0 and 5.0 scores making up 55.6% of the total, indicating general satisfaction. The quantity of reviews grows with satisfaction. However, there are slightly more 1/5 scores than 2/5 and 3/5, reflecting the tendency of some customers to be polarized, often representing dissatisfied or angry customers."
      ]
    },
    {
      "cell_type": "markdown",
      "id": "12d63268-b760-4483-b582-db1489d358b5",
      "metadata": {
        "id": "12d63268-b760-4483-b582-db1489d358b5"
      },
      "source": [
        "### 2 - Let's look at the customer verbatims"
      ]
    },
    {
      "cell_type": "code",
      "execution_count": null,
      "id": "2fc4507d-9b94-4167-a80a-bd9159c14528",
      "metadata": {
        "id": "2fc4507d-9b94-4167-a80a-bd9159c14528"
      },
      "outputs": [],
      "source": [
        "# Create a wordcloud on orders with negative reviews only\n",
        "\n",
        "# Filter the DataFrame for negative reviews (1.0 and 2.0)\n",
        "negative_reviews = df[df['review_score'].isin([1.0, 2.0])]\n",
        "\n",
        "# Join all the review messages into one large string\n",
        "text = ' '.join(negative_reviews['review_comment_message'].dropna())\n",
        "\n",
        "# Create the word cloud\n",
        "wordcloud = WordCloud(width=800, height=400, background_color='white').generate(text)\n",
        "\n",
        "# Display the word cloud\n",
        "plt.figure(figsize=(10, 5))\n",
        "plt.imshow(wordcloud, interpolation='bilinear')\n",
        "plt.axis('off')\n",
        "plt.show()"
      ]
    },
    {
      "cell_type": "markdown",
      "id": "0f7b7257-6041-4392-8361-ad822eff0b60",
      "metadata": {
        "id": "0f7b7257-6041-4392-8361-ad822eff0b60"
      },
      "source": [
        "**What are the first reasons you see behind a bad review? What could we do to improve this wordcloud?**\n",
        "\n",
        "*-> answer:* poor quality, bad support and delivery issues"
      ]
    },
    {
      "cell_type": "markdown",
      "id": "669c9edf-da30-4cb9-82dd-73a34e6b5003",
      "metadata": {
        "id": "669c9edf-da30-4cb9-82dd-73a34e6b5003"
      },
      "source": [
        "### 3 - Let's create a correlation matrix and identify other reasons behind bad reviews"
      ]
    },
    {
      "cell_type": "code",
      "execution_count": null,
      "id": "512963c3-4dfd-4f72-a9d8-9e5768d51a4c",
      "metadata": {
        "id": "512963c3-4dfd-4f72-a9d8-9e5768d51a4c"
      },
      "outputs": [],
      "source": [
        "# let's isolate the columns we'll use for our correlation matrix\n",
        "columns_to_include = ['price', 'freight_value', 'product_weight_g', 'product_length_cm',\n",
        "                      'product_height_cm', 'product_width_cm', 'delivery_time', 'review_score']\n",
        "\n",
        "# Create a new DataFrame with only these columns\n",
        "df_correlation = df[columns_to_include]\n",
        "\n",
        "# print all the columns and their types using the method of your choice\n",
        "df_correlation"
      ]
    },
    {
      "cell_type": "code",
      "execution_count": null,
      "id": "b1a9294a-cf01-4208-a8b8-3f78c6ac7acd",
      "metadata": {
        "scrolled": true,
        "id": "b1a9294a-cf01-4208-a8b8-3f78c6ac7acd"
      },
      "outputs": [],
      "source": [
        "# bonus: can we create additional features?\n",
        "# example: create a is_delivered column?\n"
      ]
    },
    {
      "cell_type": "code",
      "execution_count": null,
      "id": "eb666bb2-1149-41c6-90ca-3790432240b5",
      "metadata": {
        "id": "eb666bb2-1149-41c6-90ca-3790432240b5"
      },
      "outputs": [],
      "source": [
        "# Create the correlation matrix based on the columns you want\n",
        "\n",
        "# Select relevant features for correlation analysis\n",
        "\n",
        "colors = ['#001F3F', '#0074D9', '#7FDBFF', '#39CCCC', '#3D9970', '#2ECC40', '#01FF70']\n",
        "\n",
        "correlation_features = df_correlation\n",
        "\n",
        "# Calculate the correlation matrix\n",
        "correlation = correlation_features.corr()\n",
        "\n",
        "# use seaborn to print the correlation matrix\n",
        "plt.figure(figsize=(10, 8))  # Adjust the size of the plot if necessary\n",
        "sns.heatmap(correlation, annot=True, cmap=sns.diverging_palette(20, 220, as_cmap=True),\n",
        "            vmin=-1, vmax=1, fmt='.2f', linewidths=0.5, center=0)\n",
        "\n",
        "plt.title('Correlation Matrix')\n",
        "plt.show()"
      ]
    },
    {
      "cell_type": "markdown",
      "id": "d471db73-728c-4dce-8e66-9940cacfc47c",
      "metadata": {
        "id": "d471db73-728c-4dce-8e66-9940cacfc47c"
      },
      "source": [
        "**What are the correlations you see?**\n",
        "\n",
        "*-> answer:* The delivery time has a negative correlation with the review score, and is_delivered has a  positive correlation with the review score"
      ]
    },
    {
      "cell_type": "markdown",
      "id": "82421403-427c-4a3d-8c8d-11ed4c36352b",
      "metadata": {
        "id": "82421403-427c-4a3d-8c8d-11ed4c36352b"
      },
      "source": [
        "## C - Looking at orders"
      ]
    },
    {
      "cell_type": "markdown",
      "id": "5b05bd16-1e07-428a-9b04-9ed67f63f5f3",
      "metadata": {
        "id": "5b05bd16-1e07-428a-9b04-9ed67f63f5f3"
      },
      "source": [
        "### 1 - Orders by statuses"
      ]
    },
    {
      "cell_type": "code",
      "execution_count": null,
      "id": "968fb72c-c03e-4567-a569-467d14666e91",
      "metadata": {
        "id": "968fb72c-c03e-4567-a569-467d14666e91"
      },
      "outputs": [],
      "source": [
        "# Create a visualization to count the orders by statuses\n",
        "\n",
        "plt.figure(figsize=(10, 6))\n",
        "sns.countplot(data=df, x='order_status', hue='order_status', palette='Set2', legend=False)\n",
        "\n",
        "plt.title('Number of Orders by Status')\n",
        "plt.xlabel('Order Status')\n",
        "plt.ylabel('Count of Orders')\n",
        "\n",
        "plt.xticks(rotation=45)\n",
        "plt.show()"
      ]
    },
    {
      "cell_type": "markdown",
      "id": "ab650077-a7c6-4374-95cb-1befe1b694f5",
      "metadata": {
        "id": "ab650077-a7c6-4374-95cb-1befe1b694f5"
      },
      "source": [
        "### 2 - Evolution of total orders over time"
      ]
    },
    {
      "cell_type": "code",
      "execution_count": null,
      "id": "467502cf-3672-4011-a636-a15bc1000714",
      "metadata": {
        "id": "467502cf-3672-4011-a636-a15bc1000714"
      },
      "outputs": [],
      "source": [
        "# Create a visualization to see the evolution of orders over time\n",
        "\n",
        "# Group by date and count the number of orders\n",
        "orders_over_time = df.groupby(df['order_purchase_timestamp'].dt.date).size()\n",
        "\n",
        "# Create the time series plot\n",
        "plt.figure(figsize=(12, 6))\n",
        "sns.lineplot(x=orders_over_time.index, y=orders_over_time.values, color='blue')\n",
        "\n",
        "plt.title('Evolution of Orders Over Time')\n",
        "plt.xlabel('Date')\n",
        "plt.ylabel('Number of Orders')\n",
        "\n",
        "plt.xticks(rotation=45)\n",
        "\n",
        "plt.tight_layout()\n",
        "plt.show()"
      ]
    },
    {
      "cell_type": "markdown",
      "id": "1c8eed12-a64c-4dae-a11b-84bff7adf633",
      "metadata": {
        "id": "1c8eed12-a64c-4dae-a11b-84bff7adf633"
      },
      "source": [
        "### 3 - Comparing 2017 and 2018 (bonus)"
      ]
    },
    {
      "cell_type": "code",
      "execution_count": null,
      "id": "5f022142-d2cf-4047-9bef-8539c8d6386a",
      "metadata": {
        "id": "5f022142-d2cf-4047-9bef-8539c8d6386a"
      },
      "outputs": [],
      "source": [
        "# Create a visualization to compare 2017 and 2018 on the same graph (bar charts with a \"hue\" = 'year'\n",
        "\n",
        "# Ensure 'year' is a column in the DataFrame\n",
        "df['year'] = pd.to_datetime(df['order_purchase_timestamp']).dt.year\n",
        "\n",
        "# Filter data for 2017 and 2018\n",
        "df_filtered = df[df['year'].isin([2017, 2018])]\n",
        "\n",
        "# Create the bar plot with 'hue' set to 'year'\n",
        "plt.figure(figsize=(10, 6))\n",
        "sns.countplot(data=df_filtered, x='month', hue='year', palette='Set2')\n",
        "\n",
        "# Add labels and title\n",
        "plt.title('Comparison of Orders in 2017 vs 2018')\n",
        "plt.xlabel('Month')\n",
        "plt.ylabel('Number of Orders')\n",
        "\n",
        "# Show the plot\n",
        "plt.tight_layout()\n",
        "plt.show()"
      ]
    },
    {
      "cell_type": "markdown",
      "id": "1ec9b8f8-2c14-46db-98c3-d4fe5f1c04f5",
      "metadata": {
        "id": "1ec9b8f8-2c14-46db-98c3-d4fe5f1c04f5"
      },
      "source": [
        "## D - Delivery times"
      ]
    },
    {
      "cell_type": "markdown",
      "id": "8b561f69-bda0-4b06-a56b-8cf504e70c86",
      "metadata": {
        "id": "8b561f69-bda0-4b06-a56b-8cf504e70c86"
      },
      "source": [
        "### 1 - Delivery time by product category"
      ]
    },
    {
      "cell_type": "code",
      "execution_count": null,
      "id": "183e3131-71c7-4658-8817-0566d5fc449a",
      "metadata": {
        "id": "183e3131-71c7-4658-8817-0566d5fc449a"
      },
      "outputs": [],
      "source": [
        "# Start by counting the orders by product category, and create an 'Other section' for product categories that have the lowest amount of orders\n",
        "\n",
        "# Count the occurrences of each product category\n",
        "category_counts = df['product_category_name'].value_counts()\n",
        "\n",
        "# Only keep the product category that are above a certain threshold, put the others in a \"Other' category\n",
        "threshold = 3000\n",
        "\n",
        "df['product_category_name_filtered'] = df['product_category_name'].apply(\n",
        "    lambda x: x if pd.notna(x) and category_counts.get(x, 0) >= threshold else 'Other'\n",
        ")\n",
        "\n",
        "df['product_category_name_filtered'].value_counts()\n"
      ]
    },
    {
      "cell_type": "code",
      "execution_count": null,
      "id": "f9979faa-f8c5-458f-9197-fe0eb6d97794",
      "metadata": {
        "id": "f9979faa-f8c5-458f-9197-fe0eb6d97794"
      },
      "outputs": [],
      "source": [
        "# Create a boxplot visualization that shows the delivery time by product category\n",
        "\n",
        "plt.figure(figsize=(12, 6))\n",
        "sns.boxplot(data=df, x='product_category_name_filtered', y='delivery_time')\n",
        "\n",
        "plt.xticks(rotation=45)\n",
        "\n",
        "plt.title('Delivery Time by Product Category', fontsize=16)\n",
        "plt.xlabel('Product Category', fontsize=12)\n",
        "plt.ylabel('Delivery Time', fontsize=12)\n",
        "\n",
        "plt.tight_layout()\n",
        "plt.show()"
      ]
    },
    {
      "cell_type": "markdown",
      "id": "6b0cdeb0-e924-4f58-8532-6024d8837bdb",
      "metadata": {
        "id": "6b0cdeb0-e924-4f58-8532-6024d8837bdb"
      },
      "source": [
        "### 2 - Delivery time by day of the week"
      ]
    },
    {
      "cell_type": "code",
      "execution_count": null,
      "id": "9fafeeca-5b40-47b1-8776-1e0065c351a4",
      "metadata": {
        "id": "9fafeeca-5b40-47b1-8776-1e0065c351a4"
      },
      "outputs": [],
      "source": [
        "# Create a violin box plot visualization to see the delivery time by day of the week\n",
        "plt.figure(figsize=(10, 6))\n",
        "sns.violinplot(data=df, x='day_of_week_int', y='delivery_time', hue='day_of_week_int', palette='Set2')\n",
        "\n",
        "plt.title('Delivery Time by Day of the Week', fontsize=16)\n",
        "plt.xlabel('Day of the Week', fontsize=12)\n",
        "plt.ylabel('Delivery Time', fontsize=12)\n",
        "\n",
        "plt.xticks([0, 1, 2, 3, 4, 5, 6], ['Mon', 'Tue', 'Wed', 'Thu', 'Fri', 'Sat', 'Sun'])\n",
        "\n",
        "plt.tight_layout()\n",
        "plt.show()"
      ]
    },
    {
      "cell_type": "markdown",
      "id": "2b0cfe20-3e23-4153-89db-ce8acd368c9b",
      "metadata": {
        "id": "2b0cfe20-3e23-4153-89db-ce8acd368c9b"
      },
      "source": [
        "### 3 - Average delivery time by month  (bonus)"
      ]
    },
    {
      "cell_type": "code",
      "execution_count": null,
      "id": "4573c9e4-80f0-4e87-b600-db8fa514138f",
      "metadata": {
        "id": "4573c9e4-80f0-4e87-b600-db8fa514138f"
      },
      "outputs": [],
      "source": [
        "# Create barplot for the monthly average delivery time\n"
      ]
    },
    {
      "cell_type": "markdown",
      "id": "1e87ee51-ef6a-4050-87b9-9241fe9e43cf",
      "metadata": {
        "id": "1e87ee51-ef6a-4050-87b9-9241fe9e43cf"
      },
      "source": [
        "## E - Bonus"
      ]
    },
    {
      "cell_type": "markdown",
      "id": "6dae777f-c188-4055-a3b5-33641c720b1c",
      "metadata": {
        "id": "6dae777f-c188-4055-a3b5-33641c720b1c"
      },
      "source": [
        "### 1 - Order distribution by day of week and time of day"
      ]
    },
    {
      "cell_type": "code",
      "execution_count": null,
      "id": "3f5f2a69-1b8b-40ac-a1d3-87f05b0459e7",
      "metadata": {
        "id": "3f5f2a69-1b8b-40ac-a1d3-87f05b0459e7"
      },
      "outputs": [],
      "source": [
        "# Count plot showing order distribution by day of week\n"
      ]
    },
    {
      "cell_type": "code",
      "execution_count": null,
      "id": "db817af1-43cc-4baf-aa0f-2b0132820367",
      "metadata": {
        "id": "db817af1-43cc-4baf-aa0f-2b0132820367"
      },
      "outputs": [],
      "source": [
        "# Count plot showing order distribution by time of day\n"
      ]
    },
    {
      "cell_type": "markdown",
      "id": "a14e759d-407c-4e72-bdb9-1af3a2b52254",
      "metadata": {
        "id": "a14e759d-407c-4e72-bdb9-1af3a2b52254"
      },
      "source": [
        "### 2 - Payments"
      ]
    },
    {
      "cell_type": "code",
      "execution_count": null,
      "id": "5e31df42-806f-4459-be48-93a74787ab09",
      "metadata": {
        "id": "5e31df42-806f-4459-be48-93a74787ab09"
      },
      "outputs": [],
      "source": [
        "# Check the dataframe\n"
      ]
    },
    {
      "cell_type": "code",
      "execution_count": null,
      "id": "e082f3dc-4970-42aa-a45a-652442d53b11",
      "metadata": {
        "id": "e082f3dc-4970-42aa-a45a-652442d53b11"
      },
      "outputs": [],
      "source": [
        "# Create a donut (pie chart) that show transactions by payment types\n"
      ]
    },
    {
      "cell_type": "code",
      "execution_count": null,
      "id": "4d841282-fd51-4018-a04d-7d0ce83df401",
      "metadata": {
        "id": "4d841282-fd51-4018-a04d-7d0ce83df401"
      },
      "outputs": [],
      "source": [
        "# Show the evolution of payment types over time\n"
      ]
    },
    {
      "cell_type": "markdown",
      "id": "7f990389-41ea-4aa2-95b1-209b66b9b488",
      "metadata": {
        "id": "7f990389-41ea-4aa2-95b1-209b66b9b488"
      },
      "source": [
        "### 3 - Geolocation"
      ]
    },
    {
      "cell_type": "code",
      "execution_count": null,
      "id": "ab6b216e-d892-427c-8131-790fd24c77fb",
      "metadata": {
        "id": "ab6b216e-d892-427c-8131-790fd24c77fb"
      },
      "outputs": [],
      "source": [
        "# Create a heatmap of all orders by location using an API to retrieve the latitude and longitude of every location, and display them on a map\n"
      ]
    },
    {
      "cell_type": "markdown",
      "id": "3dca29b1-2f0c-4e55-a6b9-2d959301c212",
      "metadata": {
        "id": "3dca29b1-2f0c-4e55-a6b9-2d959301c212"
      },
      "source": [
        "### 4 - Profit computation"
      ]
    },
    {
      "cell_type": "code",
      "execution_count": null,
      "id": "a9aa0ceb-4fdd-4189-b459-34774c793a20",
      "metadata": {
        "id": "a9aa0ceb-4fdd-4189-b459-34774c793a20"
      },
      "outputs": [],
      "source": [
        "# Show the monthly profit evolution for the best 4 product categories\n",
        "# x axis: months\n",
        "# y axis: gross profit (payment value - total order value)\n",
        "# hue : top product categories\n"
      ]
    }
  ],
  "metadata": {
    "kernelspec": {
      "display_name": "Python 3 (ipykernel)",
      "language": "python",
      "name": "python3"
    },
    "language_info": {
      "codemirror_mode": {
        "name": "ipython",
        "version": 3
      },
      "file_extension": ".py",
      "mimetype": "text/x-python",
      "name": "python",
      "nbconvert_exporter": "python",
      "pygments_lexer": "ipython3",
      "version": "3.12.4"
    },
    "colab": {
      "provenance": []
    }
  },
  "nbformat": 4,
  "nbformat_minor": 5
}